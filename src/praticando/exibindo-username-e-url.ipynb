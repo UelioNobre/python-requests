{
 "cells": [
  {
   "cell_type": "code",
   "execution_count": 2,
   "metadata": {},
   "outputs": [],
   "source": [
    "import requests\n",
    "import json"
   ]
  },
  {
   "cell_type": "code",
   "execution_count": 3,
   "metadata": {},
   "outputs": [],
   "source": [
    "url = \"https://api.github.com/users\"\n",
    "response = requests.get(url)"
   ]
  },
  {
   "cell_type": "code",
   "execution_count": 4,
   "metadata": {},
   "outputs": [
    {
     "name": "stdout",
     "output_type": "stream",
     "text": [
      "mojombo https://api.github.com/users/mojombo\n",
      "defunkt https://api.github.com/users/defunkt\n",
      "pjhyett https://api.github.com/users/pjhyett\n",
      "wycats https://api.github.com/users/wycats\n",
      "ezmobius https://api.github.com/users/ezmobius\n",
      "ivey https://api.github.com/users/ivey\n",
      "evanphx https://api.github.com/users/evanphx\n",
      "vanpelt https://api.github.com/users/vanpelt\n",
      "wayneeseguin https://api.github.com/users/wayneeseguin\n",
      "brynary https://api.github.com/users/brynary\n",
      "kevinclark https://api.github.com/users/kevinclark\n",
      "technoweenie https://api.github.com/users/technoweenie\n",
      "macournoyer https://api.github.com/users/macournoyer\n",
      "takeo https://api.github.com/users/takeo\n",
      "caged https://api.github.com/users/caged\n",
      "topfunky https://api.github.com/users/topfunky\n",
      "anotherjesse https://api.github.com/users/anotherjesse\n",
      "roland https://api.github.com/users/roland\n",
      "lukas https://api.github.com/users/lukas\n",
      "fanvsfan https://api.github.com/users/fanvsfan\n",
      "tomtt https://api.github.com/users/tomtt\n",
      "railsjitsu https://api.github.com/users/railsjitsu\n",
      "nitay https://api.github.com/users/nitay\n",
      "kevwil https://api.github.com/users/kevwil\n",
      "KirinDave https://api.github.com/users/KirinDave\n",
      "jamesgolick https://api.github.com/users/jamesgolick\n",
      "atmos https://api.github.com/users/atmos\n",
      "errfree https://api.github.com/users/errfree\n",
      "mojodna https://api.github.com/users/mojodna\n",
      "bmizerany https://api.github.com/users/bmizerany\n"
     ]
    }
   ],
   "source": [
    "data = json.loads(response.text)\n",
    "for user in data:\n",
    "  username = user[\"login\"]\n",
    "  url = user[\"url\"]\n",
    "  print(f\"{username} {url}\")"
   ]
  },
  {
   "cell_type": "code",
   "execution_count": null,
   "metadata": {},
   "outputs": [],
   "source": []
  }
 ],
 "metadata": {
  "kernelspec": {
   "display_name": ".venv",
   "language": "python",
   "name": "python3"
  },
  "language_info": {
   "codemirror_mode": {
    "name": "ipython",
    "version": 3
   },
   "file_extension": ".py",
   "mimetype": "text/x-python",
   "name": "python",
   "nbconvert_exporter": "python",
   "pygments_lexer": "ipython3",
   "version": "3.11.7"
  }
 },
 "nbformat": 4,
 "nbformat_minor": 2
}
